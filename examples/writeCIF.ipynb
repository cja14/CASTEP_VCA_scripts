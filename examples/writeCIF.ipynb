{
 "cells": [
  {
   "cell_type": "code",
   "execution_count": 1,
   "metadata": {
    "scrolled": true
   },
   "outputs": [],
   "source": [
    "import readmixcastep as rc\n",
    "from mixmap import mixmap\n",
    "from ase.io import write\n",
    "\n",
    "casfile = 'Ca2.15Sr0.85Ti2O7_Amam.castep'\n",
    "ciffile = casfile.replace(\".castep\", \"_pure.cif\")"
   ]
  },
  {
   "cell_type": "code",
   "execution_count": 2,
   "metadata": {},
   "outputs": [],
   "source": [
    "cas = rc.readcas(casfile)\n",
    "mixatoms = cas.extract_struc()\n",
    "mixkey = cas.get_mixkey()"
   ]
  },
  {
   "cell_type": "code",
   "execution_count": 3,
   "metadata": {},
   "outputs": [],
   "source": [
    "mapping = mixmap(mixatoms, mixkey)\n",
    "pureatoms = mapping.mix2pure(mixatoms)"
   ]
  },
  {
   "cell_type": "code",
   "execution_count": 4,
   "metadata": {},
   "outputs": [
    {
     "data": {
      "text/plain": [
       "Atoms(symbols='O28Ca12Ti8', pbc=True, cell=[5.4993115, 5.4263043, 19.496879], masses=...)"
      ]
     },
     "execution_count": 4,
     "metadata": {},
     "output_type": "execute_result"
    }
   ],
   "source": [
    "pureatoms"
   ]
  },
  {
   "cell_type": "code",
   "execution_count": 5,
   "metadata": {},
   "outputs": [],
   "source": [
    "write(ciffile, pureatoms)"
   ]
  },
  {
   "cell_type": "code",
   "execution_count": 6,
   "metadata": {},
   "outputs": [
    {
     "name": "stdout",
     "output_type": "stream",
     "text": [
      "data_image0\n",
      "\n",
      "_cell_length_a       5.4993115\n",
      "\n",
      "_cell_length_b       5.4263043\n",
      "\n",
      "_cell_length_c       19.496879\n",
      "\n",
      "_cell_angle_alpha    90.0\n",
      "\n",
      "_cell_angle_beta     90.0\n",
      "\n",
      "_cell_angle_gamma    90.0\n",
      "\n",
      "\n",
      "\n",
      "_symmetry_space_group_name_H-M    C m c m\n",
      "\n",
      "_symmetry_int_tables_number       63\n",
      "\n",
      "\n",
      "\n",
      "loop_\n",
      "\n",
      "  _symmetry_equiv_pos_as_xyz\n",
      "\n",
      "  'x, y, z'\n",
      "\n",
      "\n",
      "\n",
      "loop_\n",
      "\n",
      "  _atom_site_label\n",
      "\n",
      "  _atom_site_occupancy\n",
      "\n",
      "  _atom_site_fract_x\n",
      "\n",
      "  _atom_site_fract_y\n",
      "\n",
      "  _atom_site_fract_z\n",
      "\n",
      "  _atom_site_thermal_displace_type\n",
      "\n",
      "  _atom_site_B_iso_or_equiv\n",
      "\n",
      "  _atom_site_type_symbol\n",
      "\n",
      "  O1       1.0000 0.186424  0.250000  0.000000  Biso   1.000  O\n",
      "\n",
      "  O2       1.0000 0.813576  0.750000  0.000000  Biso   1.000  O\n",
      "\n",
      "  O3       1.0000 0.686424  0.250000  0.500000  Biso   1.000  O\n",
      "\n",
      "  O4       1.0000 0.313576  0.750000  0.500000  Biso   1.000  O\n",
      "\n",
      "  O5       1.0000 0.305341  0.250000  0.802612  Biso   1.000  O\n",
      "\n",
      "  O6       1.0000 0.694659  0.750000  0.802612  Biso   1.000  O\n",
      "\n",
      "  O7       1.0000 0.305341  0.250000  0.197388  Biso   1.000  O\n",
      "\n",
      "  O8       1.0000 0.694659  0.750000  0.197388  Biso   1.000  O\n",
      "\n",
      "  O9       1.0000 0.805341  0.250000  0.302612  Biso   1.000  O\n",
      "\n",
      "  O10      1.0000 0.194659  0.750000  0.302612  Biso   1.000  O\n",
      "\n",
      "  O11      1.0000 0.805341  0.250000  0.697388  Biso   1.000  O\n",
      "\n",
      "  O12      1.0000 0.194659  0.750000  0.697388  Biso   1.000  O\n",
      "\n",
      "  O13      1.0000 0.000000  0.000000  0.413882  Biso   1.000  O\n",
      "\n",
      "  O14      1.0000 0.000000  0.500000  0.586118  Biso   1.000  O\n",
      "\n",
      "  O15      1.0000 0.000000  0.000000  0.586118  Biso   1.000  O\n",
      "\n",
      "  O16      1.0000 0.000000  0.500000  0.413882  Biso   1.000  O\n",
      "\n",
      "  O17      1.0000 0.500000  0.000000  0.913882  Biso   1.000  O\n",
      "\n",
      "  O18      1.0000 0.500000  0.500000  0.086118  Biso   1.000  O\n",
      "\n",
      "  O19      1.0000 0.500000  0.000000  0.086118  Biso   1.000  O\n",
      "\n",
      "  O20      1.0000 0.500000  0.500000  0.913882  Biso   1.000  O\n",
      "\n",
      "  O21      1.0000 0.000000  0.000000  0.109993  Biso   1.000  O\n",
      "\n",
      "  O22      1.0000 0.000000  0.500000  0.890007  Biso   1.000  O\n",
      "\n",
      "  O23      1.0000 0.000000  0.000000  0.890007  Biso   1.000  O\n",
      "\n",
      "  O24      1.0000 0.000000  0.500000  0.109993  Biso   1.000  O\n",
      "\n",
      "  O25      1.0000 0.500000  0.000000  0.609993  Biso   1.000  O\n",
      "\n",
      "  O26      1.0000 0.500000  0.500000  0.390007  Biso   1.000  O\n",
      "\n",
      "  O27      1.0000 0.500000  0.000000  0.390007  Biso   1.000  O\n",
      "\n",
      "  O28      1.0000 0.500000  0.500000  0.609993  Biso   1.000  O\n",
      "\n",
      "  Ca1      1.0000 0.746215  0.250000  0.000000  Biso   1.000  Ca\n",
      "\n",
      "  Ca2      1.0000 0.253785  0.750000  0.000000  Biso   1.000  Ca\n",
      "\n",
      "  Ca3      1.0000 0.246215  0.250000  0.500000  Biso   1.000  Ca\n",
      "\n",
      "  Ca4      1.0000 0.753785  0.750000  0.500000  Biso   1.000  Ca\n",
      "\n",
      "  Ca5      1.0000 0.236620  0.250000  0.685505  Biso   1.000  Ca\n",
      "\n",
      "  Ca6      1.0000 0.763380  0.750000  0.685505  Biso   1.000  Ca\n",
      "\n",
      "  Ca7      1.0000 0.236620  0.250000  0.314495  Biso   1.000  Ca\n",
      "\n",
      "  Ca8      1.0000 0.763380  0.750000  0.314495  Biso   1.000  Ca\n",
      "\n",
      "  Ca9      1.0000 0.736620  0.250000  0.185505  Biso   1.000  Ca\n",
      "\n",
      "  Ca10     1.0000 0.263380  0.750000  0.185505  Biso   1.000  Ca\n",
      "\n",
      "  Ca11     1.0000 0.736620  0.250000  0.814495  Biso   1.000  Ca\n",
      "\n",
      "  Ca12     1.0000 0.263380  0.750000  0.814495  Biso   1.000  Ca\n",
      "\n",
      "  Ti1      1.0000 0.247784  0.250000  0.900520  Biso   1.000  Ti\n",
      "\n",
      "  Ti2      1.0000 0.752216  0.750000  0.900520  Biso   1.000  Ti\n",
      "\n",
      "  Ti3      1.0000 0.247784  0.250000  0.099480  Biso   1.000  Ti\n",
      "\n",
      "  Ti4      1.0000 0.752216  0.750000  0.099480  Biso   1.000  Ti\n",
      "\n",
      "  Ti5      1.0000 0.747784  0.250000  0.400520  Biso   1.000  Ti\n",
      "\n",
      "  Ti6      1.0000 0.252216  0.750000  0.400520  Biso   1.000  Ti\n",
      "\n",
      "  Ti7      1.0000 0.747784  0.250000  0.599480  Biso   1.000  Ti\n",
      "\n",
      "  Ti8      1.0000 0.252216  0.750000  0.599480  Biso   1.000  Ti\n",
      "\n"
     ]
    }
   ],
   "source": [
    "lines = open(ciffile).readlines()\n",
    "for line in lines:\n",
    "    print(line)\n",
    "\n"
   ]
  },
  {
   "cell_type": "code",
   "execution_count": null,
   "metadata": {},
   "outputs": [],
   "source": [
    "a = \"poo\"\n",
    "print(\"dingle %s\" % a)"
   ]
  },
  {
   "cell_type": "code",
   "execution_count": null,
   "metadata": {},
   "outputs": [],
   "source": [
    "a = 0.011234567\n",
    "print(\"a is %s\" % a)"
   ]
  },
  {
   "cell_type": "code",
   "execution_count": null,
   "metadata": {},
   "outputs": [],
   "source": []
  }
 ],
 "metadata": {
  "kernelspec": {
   "display_name": "Python 3",
   "language": "python",
   "name": "python3"
  },
  "language_info": {
   "codemirror_mode": {
    "name": "ipython",
    "version": 3
   },
   "file_extension": ".py",
   "mimetype": "text/x-python",
   "name": "python",
   "nbconvert_exporter": "python",
   "pygments_lexer": "ipython3",
   "version": "3.7.6"
  }
 },
 "nbformat": 4,
 "nbformat_minor": 4
}
